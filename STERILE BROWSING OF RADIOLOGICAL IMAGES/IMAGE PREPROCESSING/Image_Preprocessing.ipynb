{
  "nbformat": 4,
  "nbformat_minor": 0,
  "metadata": {
    "colab": {
      "provenance": []
    },
    "kernelspec": {
      "name": "python3",
      "display_name": "Python 3"
    },
    "language_info": {
      "name": "python"
    }
  },
  "cells": [
    {
      "cell_type": "code",
      "execution_count": 1,
      "metadata": {
        "colab": {
          "base_uri": "https://localhost:8080/"
        },
        "id": "_bwsEOH26WQI",
        "outputId": "d365be09-1bc6-4969-b2df-a3ddb533fbdb"
      },
      "outputs": [
        {
          "output_type": "stream",
          "name": "stdout",
          "text": [
            "Drive already mounted at /content/drive; to attempt to forcibly remount, call drive.mount(\"/content/drive\", force_remount=True).\n"
          ]
        }
      ],
      "source": [
        "from google.colab import drive\n",
        "drive.mount('/content/drive')"
      ]
    },
    {
      "cell_type": "markdown",
      "source": [
        "Importing Libraries "
      ],
      "metadata": {
        "id": "seGQESGi-YVw"
      }
    },
    {
      "cell_type": "code",
      "source": [
        "from tensorflow.keras.preprocessing.image import ImageDataGenerator"
      ],
      "metadata": {
        "id": "7oIrlsNU-cGm"
      },
      "execution_count": 5,
      "outputs": []
    },
    {
      "cell_type": "markdown",
      "source": [
        "Configuring the ImageDataGenerator Class"
      ],
      "metadata": {
        "id": "WPd8r_dP_bjm"
      }
    },
    {
      "cell_type": "code",
      "source": [
        "train_data_generator1 = ImageDataGenerator(rescale=1.0/255,horizontal_flip=True)\n",
        "test_data_generator1 = ImageDataGenerator(rescale=1.0/255, horizontal_flip=True)"
      ],
      "metadata": {
        "id": "4z2BHx7n_Pvr"
      },
      "execution_count": 34,
      "outputs": []
    },
    {
      "cell_type": "code",
      "source": [
        "train_data_generator2 = ImageDataGenerator(rescale=1.0/255,rotation_range=90)\n",
        "test_data_generator2 = ImageDataGenerator(rescale=1.0/255,rotation_range=90)"
      ],
      "metadata": {
        "id": "odVVg7gBIPpS"
      },
      "execution_count": 35,
      "outputs": []
    },
    {
      "cell_type": "code",
      "source": [
        "train_data_generator3 = ImageDataGenerator(rescale=1.0/255,brightness_range=[0.2,1.0])\n",
        "test_data_generator3 = ImageDataGenerator(rescale=1.0/255,brightness_range=[0.2,1.0])"
      ],
      "metadata": {
        "id": "nUvxmZblLgdR"
      },
      "execution_count": 36,
      "outputs": []
    },
    {
      "cell_type": "code",
      "source": [
        "train_data_generator4 = ImageDataGenerator(rescale=1.0/255,zoom_range=[0.5,1.0])\n",
        "test_data_generator4 = ImageDataGenerator(rescale=1.0/255,zoom_range=[0.5,1.0])"
      ],
      "metadata": {
        "id": "A7rk_HzVNaAA"
      },
      "execution_count": 49,
      "outputs": []
    },
    {
      "cell_type": "markdown",
      "source": [
        "Applying ImageDataGenerator to test dataset and train dataset"
      ],
      "metadata": {
        "id": "2UV3j9zJCd1a"
      }
    },
    {
      "cell_type": "code",
      "source": [
        "trdata1 = train_data_generator1.flow_from_directory('/content/drive/MyDrive/Dataset/train',target_size=(64,64),batch_size=(3),color_mode='grayscale',class_mode='categorical')"
      ],
      "metadata": {
        "colab": {
          "base_uri": "https://localhost:8080/"
        },
        "id": "wKxupD1pCmgQ",
        "outputId": "b301291b-cdef-4858-8c18-2fbb7d771dc6"
      },
      "execution_count": 37,
      "outputs": [
        {
          "output_type": "stream",
          "name": "stdout",
          "text": [
            "Found 594 images belonging to 6 classes.\n"
          ]
        }
      ]
    },
    {
      "cell_type": "code",
      "source": [
        "trdata2 = train_data_generator2.flow_from_directory('/content/drive/MyDrive/Dataset/train',target_size=(64,64),batch_size=(3),color_mode='grayscale',class_mode='categorical')"
      ],
      "metadata": {
        "colab": {
          "base_uri": "https://localhost:8080/"
        },
        "id": "YP5e5rgAJcog",
        "outputId": "33f0fb95-e4eb-47f7-cfec-1e891bc20530"
      },
      "execution_count": 38,
      "outputs": [
        {
          "output_type": "stream",
          "name": "stdout",
          "text": [
            "Found 594 images belonging to 6 classes.\n"
          ]
        }
      ]
    },
    {
      "cell_type": "code",
      "source": [
        "trdata3 = train_data_generator3.flow_from_directory('/content/drive/MyDrive/Dataset/train',target_size=(64,64),batch_size=(3),color_mode='grayscale',class_mode='categorical')"
      ],
      "metadata": {
        "colab": {
          "base_uri": "https://localhost:8080/"
        },
        "id": "QM5Q3N1JLZFq",
        "outputId": "96f6de5f-70d7-4b13-9d10-ce7abb30c328"
      },
      "execution_count": 39,
      "outputs": [
        {
          "output_type": "stream",
          "name": "stdout",
          "text": [
            "Found 594 images belonging to 6 classes.\n"
          ]
        }
      ]
    },
    {
      "cell_type": "code",
      "source": [
        "trdata4 = train_data_generator4.flow_from_directory('/content/drive/MyDrive/Dataset/train',target_size=(64,64),batch_size=(3),color_mode='grayscale',class_mode='categorical')"
      ],
      "metadata": {
        "colab": {
          "base_uri": "https://localhost:8080/"
        },
        "id": "kfaRzBuvNjC0",
        "outputId": "e6c06672-b88a-48c1-cab6-a6ef06dc2bdc"
      },
      "execution_count": 50,
      "outputs": [
        {
          "output_type": "stream",
          "name": "stdout",
          "text": [
            "Found 594 images belonging to 6 classes.\n"
          ]
        }
      ]
    },
    {
      "cell_type": "code",
      "source": [
        "tsdata1 = test_data_generator1.flow_from_directory('/content/drive/MyDrive/Dataset/test',target_size=(64,64),batch_size=32,class_mode='categorical',color_mode='grayscale')"
      ],
      "metadata": {
        "colab": {
          "base_uri": "https://localhost:8080/"
        },
        "id": "_BXgw2x0Dr9Y",
        "outputId": "28dbce58-1df2-4e81-c08a-c341707b94bf"
      },
      "execution_count": 40,
      "outputs": [
        {
          "output_type": "stream",
          "name": "stdout",
          "text": [
            "Found 30 images belonging to 6 classes.\n"
          ]
        }
      ]
    },
    {
      "cell_type": "code",
      "source": [
        "tsdata2 = test_data_generator2.flow_from_directory('/content/drive/MyDrive/Dataset/test',target_size=(64,64),batch_size=32,class_mode='categorical',color_mode='grayscale')"
      ],
      "metadata": {
        "colab": {
          "base_uri": "https://localhost:8080/"
        },
        "id": "JSl_67FIJi_b",
        "outputId": "4afe74dd-bdad-4eed-a3f2-b4f27ea284ba"
      },
      "execution_count": 41,
      "outputs": [
        {
          "output_type": "stream",
          "name": "stdout",
          "text": [
            "Found 30 images belonging to 6 classes.\n"
          ]
        }
      ]
    },
    {
      "cell_type": "code",
      "source": [
        "tsdata3 = test_data_generator3.flow_from_directory('/content/drive/MyDrive/Dataset/test',target_size=(64,64),batch_size=32,class_mode='categorical',color_mode='grayscale')"
      ],
      "metadata": {
        "colab": {
          "base_uri": "https://localhost:8080/"
        },
        "id": "1kMAPRICLzSP",
        "outputId": "c8096478-8e87-4485-bf9d-7dfc20698d13"
      },
      "execution_count": 42,
      "outputs": [
        {
          "output_type": "stream",
          "name": "stdout",
          "text": [
            "Found 30 images belonging to 6 classes.\n"
          ]
        }
      ]
    },
    {
      "cell_type": "code",
      "source": [
        "tsdata4 = test_data_generator4.flow_from_directory('/content/drive/MyDrive/Dataset/test',target_size=(64,64),batch_size=32,class_mode='categorical',color_mode='grayscale')"
      ],
      "metadata": {
        "colab": {
          "base_uri": "https://localhost:8080/"
        },
        "id": "FVKFtZECNn_Q",
        "outputId": "fb815ab3-00f0-413c-d676-67bc083348d2"
      },
      "execution_count": 51,
      "outputs": [
        {
          "output_type": "stream",
          "name": "stdout",
          "text": [
            "Found 30 images belonging to 6 classes.\n"
          ]
        }
      ]
    },
    {
      "cell_type": "code",
      "source": [
        "print(trdata1.class_indices)"
      ],
      "metadata": {
        "colab": {
          "base_uri": "https://localhost:8080/"
        },
        "id": "L2pz-VtDEJyw",
        "outputId": "5564814e-3ae7-4f65-f781-07b4d507c05c"
      },
      "execution_count": 43,
      "outputs": [
        {
          "output_type": "stream",
          "name": "stdout",
          "text": [
            "{'0': 0, '1': 1, '2': 2, '3': 3, '4': 4, '5': 5}\n"
          ]
        }
      ]
    },
    {
      "cell_type": "code",
      "source": [
        "print(trdata2.class_indices)"
      ],
      "metadata": {
        "colab": {
          "base_uri": "https://localhost:8080/"
        },
        "id": "wZPwZRbcJu-s",
        "outputId": "6b8d67a0-9824-450a-c261-6f4e8c0a4ed5"
      },
      "execution_count": 44,
      "outputs": [
        {
          "output_type": "stream",
          "name": "stdout",
          "text": [
            "{'0': 0, '1': 1, '2': 2, '3': 3, '4': 4, '5': 5}\n"
          ]
        }
      ]
    },
    {
      "cell_type": "code",
      "source": [
        "print(trdata3.class_indices)"
      ],
      "metadata": {
        "colab": {
          "base_uri": "https://localhost:8080/"
        },
        "id": "4y0Po48CM3bf",
        "outputId": "9d0d25d6-3893-497e-8971-b246dc7db8a7"
      },
      "execution_count": 45,
      "outputs": [
        {
          "output_type": "stream",
          "name": "stdout",
          "text": [
            "{'0': 0, '1': 1, '2': 2, '3': 3, '4': 4, '5': 5}\n"
          ]
        }
      ]
    },
    {
      "cell_type": "code",
      "source": [
        "print(trdata4.class_indices)"
      ],
      "metadata": {
        "colab": {
          "base_uri": "https://localhost:8080/"
        },
        "id": "hoLR1vjANshm",
        "outputId": "112604aa-7b90-4a70-a97d-fc4d0199fef6"
      },
      "execution_count": 52,
      "outputs": [
        {
          "output_type": "stream",
          "name": "stdout",
          "text": [
            "{'0': 0, '1': 1, '2': 2, '3': 3, '4': 4, '5': 5}\n"
          ]
        }
      ]
    },
    {
      "cell_type": "code",
      "source": [
        "print(tsdata1.class_indices)"
      ],
      "metadata": {
        "colab": {
          "base_uri": "https://localhost:8080/"
        },
        "id": "mUkyjMP6ESat",
        "outputId": "1d18c3fb-8961-40a8-dd0d-d4f2e4be1b8f"
      },
      "execution_count": 46,
      "outputs": [
        {
          "output_type": "stream",
          "name": "stdout",
          "text": [
            "{'0': 0, '1': 1, '2': 2, '3': 3, '4': 4, '5': 5}\n"
          ]
        }
      ]
    },
    {
      "cell_type": "code",
      "source": [
        "print(tsdata2.class_indices)"
      ],
      "metadata": {
        "colab": {
          "base_uri": "https://localhost:8080/"
        },
        "id": "4mHPzHiWJ0hK",
        "outputId": "42d14c7f-ab94-43a1-e6d6-c230c7befd41"
      },
      "execution_count": 47,
      "outputs": [
        {
          "output_type": "stream",
          "name": "stdout",
          "text": [
            "{'0': 0, '1': 1, '2': 2, '3': 3, '4': 4, '5': 5}\n"
          ]
        }
      ]
    },
    {
      "cell_type": "code",
      "source": [
        "print(tsdata3.class_indices)"
      ],
      "metadata": {
        "colab": {
          "base_uri": "https://localhost:8080/"
        },
        "id": "67cxu5G8M6D6",
        "outputId": "624dd164-d094-4d7b-c82f-4242f42e33ac"
      },
      "execution_count": 48,
      "outputs": [
        {
          "output_type": "stream",
          "name": "stdout",
          "text": [
            "{'0': 0, '1': 1, '2': 2, '3': 3, '4': 4, '5': 5}\n"
          ]
        }
      ]
    },
    {
      "cell_type": "code",
      "source": [
        "print(tsdata4.class_indices)"
      ],
      "metadata": {
        "id": "WhbMCvBrNxFh",
        "outputId": "1da860b1-8b1f-47c2-a964-26b24d9c9a74",
        "colab": {
          "base_uri": "https://localhost:8080/"
        }
      },
      "execution_count": 53,
      "outputs": [
        {
          "output_type": "stream",
          "name": "stdout",
          "text": [
            "{'0': 0, '1': 1, '2': 2, '3': 3, '4': 4, '5': 5}\n"
          ]
        }
      ]
    }
  ]
}