{
  "nbformat": 4,
  "nbformat_minor": 0,
  "metadata": {
    "colab": {
      "provenance": []
    },
    "kernelspec": {
      "name": "python3",
      "display_name": "Python 3"
    },
    "language_info": {
      "name": "python"
    }
  },
  "cells": [
    {
      "cell_type": "code",
      "execution_count": null,
      "metadata": {
        "colab": {
          "base_uri": "https://localhost:8080/"
        },
        "id": "0xY_tFPbSrXq",
        "outputId": "478db547-3832-4e9f-f945-990746b7b453"
      },
      "outputs": [
        {
          "output_type": "stream",
          "name": "stdout",
          "text": [
            "Drive already mounted at /content/drive; to attempt to forcibly remount, call drive.mount(\"/content/drive\", force_remount=True).\n"
          ]
        }
      ],
      "source": [
        "from google.colab import drive\n",
        "drive.mount('/content/drive')"
      ]
    },
    {
      "cell_type": "markdown",
      "source": [
        "Import the libraries"
      ],
      "metadata": {
        "id": "96DM4z5nzdT5"
      }
    },
    {
      "cell_type": "code",
      "source": [
        "import numpy as np\n",
        "import tensorflow as tf\n",
        "from tensorflow.keras.models import Sequential\n",
        "from tensorflow.keras.layers import Dense,Flatten,Dropout\n",
        "from tensorflow.keras.layers import Convolution2D,MaxPooling2D\n",
        "from tensorflow.keras.preprocessing.image import ImageDataGenerator"
      ],
      "metadata": {
        "id": "_4UzyWv1zbLv"
      },
      "execution_count": null,
      "outputs": []
    },
    {
      "cell_type": "markdown",
      "source": [
        "Augment the data"
      ],
      "metadata": {
        "id": "oO-hpwun1iRF"
      }
    },
    {
      "cell_type": "code",
      "source": [
        "train = ImageDataGenerator(rescale = 1./255,shear_range=0.2,zoom_range=0.2,horizontal_flip=True)\n",
        "test = ImageDataGenerator(rescale = 1./255)"
      ],
      "metadata": {
        "id": "gzt2we4P1kUi"
      },
      "execution_count": null,
      "outputs": []
    },
    {
      "cell_type": "markdown",
      "source": [
        "Loading and augmentation of given data"
      ],
      "metadata": {
        "id": "EtFAU6_R20Qq"
      }
    },
    {
      "cell_type": "code",
      "source": [
        "A_train = train.flow_from_directory('/content/drive/MyDrive/Dataset/train', target_size=(64,64), color_mode='grayscale',batch_size=3, class_mode='categorical')\n",
        "A_test = test.flow_from_directory('/content/drive/MyDrive/Dataset/test', target_size=(64,64), color_mode='grayscale',batch_size=3, class_mode='categorical')"
      ],
      "metadata": {
        "colab": {
          "base_uri": "https://localhost:8080/"
        },
        "id": "8nd2xFiB2_m6",
        "outputId": "8bcdcf05-5650-4be1-8571-63c7bb423b32"
      },
      "execution_count": null,
      "outputs": [
        {
          "output_type": "stream",
          "name": "stdout",
          "text": [
            "Found 594 images belonging to 6 classes.\n",
            "Found 30 images belonging to 6 classes.\n"
          ]
        }
      ]
    },
    {
      "cell_type": "code",
      "source": [
        "print(A_train.class_indices)"
      ],
      "metadata": {
        "colab": {
          "base_uri": "https://localhost:8080/"
        },
        "id": "7DXUbmbh_MN8",
        "outputId": "a71163c3-3992-4f3c-8194-9982f470f81e"
      },
      "execution_count": null,
      "outputs": [
        {
          "output_type": "stream",
          "name": "stdout",
          "text": [
            "{'0': 0, '1': 1, '2': 2, '3': 3, '4': 4, '5': 5}\n"
          ]
        }
      ]
    },
    {
      "cell_type": "code",
      "source": [
        "print(A_test.class_indices)"
      ],
      "metadata": {
        "colab": {
          "base_uri": "https://localhost:8080/"
        },
        "id": "xpvHLILP_R71",
        "outputId": "dfe1ef90-ddb2-458f-ff53-00e21b3a3c08"
      },
      "execution_count": null,
      "outputs": [
        {
          "output_type": "stream",
          "name": "stdout",
          "text": [
            "{'0': 0, '1': 1, '2': 2, '3': 3, '4': 4, '5': 5}\n"
          ]
        }
      ]
    },
    {
      "cell_type": "markdown",
      "source": [
        "Import Keras library"
      ],
      "metadata": {
        "id": "3EFJgG8zEPeT"
      }
    },
    {
      "cell_type": "code",
      "source": [
        "model = Sequential()"
      ],
      "metadata": {
        "id": "cdKQysj4FItv"
      },
      "execution_count": null,
      "outputs": []
    },
    {
      "cell_type": "markdown",
      "source": [
        "Add 1st Convolution Layer and Pooling  layer"
      ],
      "metadata": {
        "id": "_LQVwN_9IAVn"
      }
    },
    {
      "cell_type": "code",
      "source": [
        "model.add(Convolution2D(32,(3,3),input_shape=(64,64,1),activation='relu'))\n",
        "model.add(MaxPooling2D(pool_size=(2,2)))"
      ],
      "metadata": {
        "id": "olavhfPxIDqF"
      },
      "execution_count": null,
      "outputs": []
    },
    {
      "cell_type": "markdown",
      "source": [
        "Add 2nd Convolution Layer and Pooling layer"
      ],
      "metadata": {
        "id": "hbds07i5t5OL"
      }
    },
    {
      "cell_type": "code",
      "source": [
        "model.add(Convolution2D(32,(3,3),activation='relu'))\n",
        "model.add(MaxPooling2D(pool_size=(2,2)))"
      ],
      "metadata": {
        "id": "EiLWqpmYt_n1"
      },
      "execution_count": null,
      "outputs": []
    },
    {
      "cell_type": "markdown",
      "source": [
        "Add Flatten layer"
      ],
      "metadata": {
        "id": "GhU1EoarBA6I"
      }
    },
    {
      "cell_type": "code",
      "source": [
        "model.add(Flatten())"
      ],
      "metadata": {
        "id": "cNK0aRM3BD_I"
      },
      "execution_count": null,
      "outputs": []
    },
    {
      "cell_type": "markdown",
      "source": [
        "Add dense layers"
      ],
      "metadata": {
        "id": "5bILZ6tdBG-y"
      }
    },
    {
      "cell_type": "code",
      "source": [
        "model.add(Dense(units=512,activation='relu'))"
      ],
      "metadata": {
        "id": "q5W2-eZ5BrPi"
      },
      "execution_count": null,
      "outputs": []
    },
    {
      "cell_type": "code",
      "source": [
        "model.add(Dense(units=6,activation='softmax'))"
      ],
      "metadata": {
        "id": "-Zek0FqvCpg3"
      },
      "execution_count": null,
      "outputs": []
    },
    {
      "cell_type": "code",
      "source": [
        "model.summary()"
      ],
      "metadata": {
        "colab": {
          "base_uri": "https://localhost:8080/"
        },
        "id": "3EcM5bWJCx0k",
        "outputId": "1a97248e-a224-4a41-dfd1-1e38b5ccfbad"
      },
      "execution_count": null,
      "outputs": [
        {
          "output_type": "stream",
          "name": "stdout",
          "text": [
            "Model: \"sequential_2\"\n",
            "_________________________________________________________________\n",
            " Layer (type)                Output Shape              Param #   \n",
            "=================================================================\n",
            " conv2d_5 (Conv2D)           (None, 62, 62, 32)        320       \n",
            "                                                                 \n",
            " max_pooling2d_4 (MaxPooling  (None, 31, 31, 32)       0         \n",
            " 2D)                                                             \n",
            "                                                                 \n",
            " conv2d_6 (Conv2D)           (None, 29, 29, 32)        9248      \n",
            "                                                                 \n",
            " max_pooling2d_5 (MaxPooling  (None, 14, 14, 32)       0         \n",
            " 2D)                                                             \n",
            "                                                                 \n",
            " flatten_2 (Flatten)         (None, 6272)              0         \n",
            "                                                                 \n",
            " dense_4 (Dense)             (None, 512)               3211776   \n",
            "                                                                 \n",
            " dense_5 (Dense)             (None, 6)                 3078      \n",
            "                                                                 \n",
            "=================================================================\n",
            "Total params: 3,224,422\n",
            "Trainable params: 3,224,422\n",
            "Non-trainable params: 0\n",
            "_________________________________________________________________\n"
          ]
        }
      ]
    },
    {
      "cell_type": "markdown",
      "source": [
        "Compile the model"
      ],
      "metadata": {
        "id": "XpvG2inyDbJt"
      }
    },
    {
      "cell_type": "code",
      "source": [
        "model.compile(metrics=['accuracy'],loss='categorical_crossentropy',optimizer='adam')"
      ],
      "metadata": {
        "id": "x2BRRiOPDc6r"
      },
      "execution_count": null,
      "outputs": []
    },
    {
      "cell_type": "markdown",
      "source": [
        "Train the model"
      ],
      "metadata": {
        "id": "KmKQZBIAEAib"
      }
    },
    {
      "cell_type": "code",
      "source": [
        "model.fit(A_train,steps_per_epoch = 594/3,epochs=25,validation_data=A_test,validation_steps=len(A_test))"
      ],
      "metadata": {
        "colab": {
          "base_uri": "https://localhost:8080/"
        },
        "id": "9hcyyf5MEIjz",
        "outputId": "98c03ce5-f5b3-424c-e7f6-80ab78d9a1e1"
      },
      "execution_count": null,
      "outputs": [
        {
          "output_type": "stream",
          "name": "stdout",
          "text": [
            "Epoch 1/25\n",
            "198/198 [==============================] - 14s 68ms/step - loss: 0.1619 - accuracy: 0.9444 - val_loss: 0.3306 - val_accuracy: 0.9667\n",
            "Epoch 2/25\n",
            "198/198 [==============================] - 14s 70ms/step - loss: 0.1132 - accuracy: 0.9562 - val_loss: 0.2560 - val_accuracy: 0.9667\n",
            "Epoch 3/25\n",
            "198/198 [==============================] - 14s 68ms/step - loss: 0.1009 - accuracy: 0.9613 - val_loss: 0.2782 - val_accuracy: 0.9667\n",
            "Epoch 4/25\n",
            "198/198 [==============================] - 13s 67ms/step - loss: 0.0707 - accuracy: 0.9815 - val_loss: 0.1935 - val_accuracy: 0.9333\n",
            "Epoch 5/25\n",
            "198/198 [==============================] - 13s 68ms/step - loss: 0.1144 - accuracy: 0.9545 - val_loss: 0.1006 - val_accuracy: 0.9667\n",
            "Epoch 6/25\n",
            "198/198 [==============================] - 14s 68ms/step - loss: 0.0873 - accuracy: 0.9646 - val_loss: 0.1016 - val_accuracy: 0.9667\n",
            "Epoch 7/25\n",
            "198/198 [==============================] - 14s 69ms/step - loss: 0.0918 - accuracy: 0.9663 - val_loss: 0.2590 - val_accuracy: 0.9667\n",
            "Epoch 8/25\n",
            "198/198 [==============================] - 14s 69ms/step - loss: 0.0400 - accuracy: 0.9899 - val_loss: 0.2251 - val_accuracy: 0.9667\n",
            "Epoch 9/25\n",
            "198/198 [==============================] - 14s 69ms/step - loss: 0.1069 - accuracy: 0.9630 - val_loss: 0.2626 - val_accuracy: 0.9000\n",
            "Epoch 10/25\n",
            "198/198 [==============================] - 13s 68ms/step - loss: 0.0421 - accuracy: 0.9832 - val_loss: 0.2690 - val_accuracy: 0.9333\n",
            "Epoch 11/25\n",
            "198/198 [==============================] - 13s 68ms/step - loss: 0.0247 - accuracy: 0.9916 - val_loss: 0.1944 - val_accuracy: 0.9667\n",
            "Epoch 12/25\n",
            "198/198 [==============================] - 13s 67ms/step - loss: 0.0234 - accuracy: 0.9882 - val_loss: 0.2001 - val_accuracy: 0.9667\n",
            "Epoch 13/25\n",
            "198/198 [==============================] - 13s 67ms/step - loss: 0.0812 - accuracy: 0.9714 - val_loss: 0.2906 - val_accuracy: 0.9333\n",
            "Epoch 14/25\n",
            "198/198 [==============================] - 13s 68ms/step - loss: 0.0340 - accuracy: 0.9882 - val_loss: 0.3827 - val_accuracy: 0.9333\n",
            "Epoch 15/25\n",
            "198/198 [==============================] - 13s 68ms/step - loss: 0.0483 - accuracy: 0.9798 - val_loss: 0.4646 - val_accuracy: 0.9000\n",
            "Epoch 16/25\n",
            "198/198 [==============================] - 14s 68ms/step - loss: 0.0195 - accuracy: 0.9933 - val_loss: 0.3692 - val_accuracy: 0.9667\n",
            "Epoch 17/25\n",
            "198/198 [==============================] - 14s 69ms/step - loss: 0.0315 - accuracy: 0.9916 - val_loss: 0.3506 - val_accuracy: 0.9667\n",
            "Epoch 18/25\n",
            "198/198 [==============================] - 15s 75ms/step - loss: 0.0306 - accuracy: 0.9949 - val_loss: 0.1548 - val_accuracy: 0.9667\n",
            "Epoch 19/25\n",
            "198/198 [==============================] - 14s 68ms/step - loss: 0.0321 - accuracy: 0.9865 - val_loss: 0.3240 - val_accuracy: 0.9333\n",
            "Epoch 20/25\n",
            "198/198 [==============================] - 13s 67ms/step - loss: 0.0389 - accuracy: 0.9848 - val_loss: 0.3268 - val_accuracy: 0.9333\n",
            "Epoch 21/25\n",
            "198/198 [==============================] - 13s 68ms/step - loss: 0.0391 - accuracy: 0.9865 - val_loss: 0.2733 - val_accuracy: 0.9333\n",
            "Epoch 22/25\n",
            "198/198 [==============================] - 14s 69ms/step - loss: 0.0664 - accuracy: 0.9832 - val_loss: 0.3035 - val_accuracy: 0.9333\n",
            "Epoch 23/25\n",
            "198/198 [==============================] - 13s 68ms/step - loss: 0.0414 - accuracy: 0.9815 - val_loss: 0.4794 - val_accuracy: 0.9667\n",
            "Epoch 24/25\n",
            "198/198 [==============================] - 13s 68ms/step - loss: 0.0550 - accuracy: 0.9865 - val_loss: 0.3991 - val_accuracy: 0.9667\n",
            "Epoch 25/25\n",
            "198/198 [==============================] - 13s 68ms/step - loss: 0.0107 - accuracy: 0.9983 - val_loss: 0.4336 - val_accuracy: 0.9667\n"
          ]
        },
        {
          "output_type": "execute_result",
          "data": {
            "text/plain": [
              "<keras.callbacks.History at 0x7f571d971d90>"
            ]
          },
          "metadata": {},
          "execution_count": 51
        }
      ]
    },
    {
      "cell_type": "markdown",
      "source": [
        "Save the model"
      ],
      "metadata": {
        "id": "VMKNvOLsaUV_"
      }
    },
    {
      "cell_type": "code",
      "source": [
        "model.save('gesture.h5')"
      ],
      "metadata": {
        "id": "wTNs2PBYaWNA"
      },
      "execution_count": null,
      "outputs": []
    },
    {
      "cell_type": "code",
      "source": [
        "json_model = model.to_json()\n",
        "with open(\"model-gesture.json\",\"w\") as json_file:\n",
        "  json_file.write(json_model)"
      ],
      "metadata": {
        "id": "1ADuvS9ybjC0"
      },
      "execution_count": 54,
      "outputs": []
    },
    {
      "cell_type": "markdown",
      "source": [
        "Test the model"
      ],
      "metadata": {
        "id": "mfdIRuqydwTr"
      }
    },
    {
      "cell_type": "code",
      "source": [
        "from tensorflow.keras.models import load_model\n",
        "from tensorflow.keras.preprocessing import image\n",
        "test_model = load_model('gesture.h5')\n",
        "img_path=\"/content/drive/MyDrive/test_image.jpg\""
      ],
      "metadata": {
        "id": "8GJtpdQDdx51"
      },
      "execution_count": 55,
      "outputs": []
    },
    {
      "cell_type": "code",
      "source": [
        "import matplotlib.pyplot as plt\n",
        "import matplotlib.image as mpimg\n",
        "img = mpimg.imread(img_path)\n",
        "imgplot = plt.imshow(img)\n",
        "plt.show()"
      ],
      "metadata": {
        "colab": {
          "base_uri": "https://localhost:8080/",
          "height": 269
        },
        "id": "-xS_x7pNgRlK",
        "outputId": "041fe20a-fd86-4bd9-c964-55e6220a6eed"
      },
      "execution_count": 57,
      "outputs": [
        {
          "output_type": "display_data",
          "data": {
            "text/plain": [
              "<Figure size 432x288 with 1 Axes>"
            ],
            "image/png": "[encoded data removed]"
          },
          "metadata": {
            "needs_background": "light"
          }
        }
      ]
    },
    {
      "cell_type": "code",
      "source": [
        "imgload = image.load_img(img_path,color_mode='grayscale',target_size=(64,64))\n",
        "res = image.img_to_array(imgload)\n",
        "res.shape"
      ],
      "metadata": {
        "colab": {
          "base_uri": "https://localhost:8080/"
        },
        "id": "R2XpYGlCg5-o",
        "outputId": "02ab6e2f-d0a5-4629-f9ab-860545a915bb"
      },
      "execution_count": 58,
      "outputs": [
        {
          "output_type": "execute_result",
          "data": {
            "text/plain": [
              "(64, 64, 1)"
            ]
          },
          "metadata": {},
          "execution_count": 58
        }
      ]
    },
    {
      "cell_type": "code",
      "source": [
        "type(res)"
      ],
      "metadata": {
        "colab": {
          "base_uri": "https://localhost:8080/"
        },
        "id": "BBgEQoXXiGT3",
        "outputId": "7922b6f2-645a-4ae7-e3cf-7b0b3ac1d33c"
      },
      "execution_count": 60,
      "outputs": [
        {
          "output_type": "execute_result",
          "data": {
            "text/plain": [
              "numpy.ndarray"
            ]
          },
          "metadata": {},
          "execution_count": 60
        }
      ]
    },
    {
      "cell_type": "code",
      "source": [
        "res = np.expand_dims(res,axis=0)"
      ],
      "metadata": {
        "id": "mHl3xDF8iPTp"
      },
      "execution_count": 61,
      "outputs": []
    },
    {
      "cell_type": "code",
      "source": [
        "res.shape"
      ],
      "metadata": {
        "colab": {
          "base_uri": "https://localhost:8080/"
        },
        "id": "2EHY3ajLiWlN",
        "outputId": "1fc5b21b-a6d2-4314-d78b-85608b4ffb48"
      },
      "execution_count": 62,
      "outputs": [
        {
          "output_type": "execute_result",
          "data": {
            "text/plain": [
              "(1, 64, 64, 1)"
            ]
          },
          "metadata": {},
          "execution_count": 62
        }
      ]
    },
    {
      "cell_type": "markdown",
      "source": [
        "Predict the result"
      ],
      "metadata": {
        "id": "ree3EBlEiYhn"
      }
    },
    {
      "cell_type": "code",
      "source": [
        "pred_res = np.argmax(test_model.predict(res),axis=-1)\n",
        "pred_res"
      ],
      "metadata": {
        "colab": {
          "base_uri": "https://localhost:8080/"
        },
        "id": "yHy4EWz1icMP",
        "outputId": "897d7c59-0c09-4102-f236-00ef6c137b86"
      },
      "execution_count": 63,
      "outputs": [
        {
          "output_type": "stream",
          "name": "stdout",
          "text": [
            "1/1 [==============================] - 0s 132ms/step\n"
          ]
        },
        {
          "output_type": "execute_result",
          "data": {
            "text/plain": [
              "array([5])"
            ]
          },
          "metadata": {},
          "execution_count": 63
        }
      ]
    },
    {
      "cell_type": "code",
      "source": [
        "index = ['0','1','2','3','4','5']\n",
        "final_res = str(index[pred_res[0]])\n",
        "final_res"
      ],
      "metadata": {
        "colab": {
          "base_uri": "https://localhost:8080/",
          "height": 35
        },
        "id": "vAiUo3Eljfx9",
        "outputId": "aee4dfc8-fdff-4dd5-f8cb-32ec03704abc"
      },
      "execution_count": 64,
      "outputs": [
        {
          "output_type": "execute_result",
          "data": {
            "text/plain": [
              "'5'"
            ],
            "application/vnd.google.colaboratory.intrinsic+json": {
              "type": "string"
            }
          },
          "metadata": {},
          "execution_count": 64
        }
      ]
    }
  ]
}